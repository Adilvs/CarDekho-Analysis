{
 "cells": [
  {
   "cell_type": "markdown",
   "metadata": {},
   "source": [
    "# **Introduction**\n",
    "CarDekho is one of India's leading online platforms for buying and selling new and used cars. It serves as a comprehensive resource for car buyers and enthusiasts, offering a wide range of services and features to assist users in their automotive journey.\n",
    "\n",
    "Founded in 2008, CarDekho has grown to become a trusted name in the Indian automotive industry. The platform provides a plethora of information, including expert reviews, detailed specifications, pricing information, comparisons, and user reviews for various car models available in the Indian market.\n",
    "\n"
   ]
  },
  {
   "cell_type": "markdown",
   "metadata": {},
   "source": [
    "# ****Importing Modules****\n"
   ]
  },
  {
   "cell_type": "code",
   "execution_count": 2,
   "metadata": {
    "execution": {
     "iopub.execute_input": "2024-04-03T13:54:34.988366Z",
     "iopub.status.busy": "2024-04-03T13:54:34.987754Z",
     "iopub.status.idle": "2024-04-03T13:54:37.025015Z",
     "shell.execute_reply": "2024-04-03T13:54:37.023757Z",
     "shell.execute_reply.started": "2024-04-03T13:54:34.988304Z"
    }
   },
   "outputs": [],
   "source": [
    "import pandas as pd  # data processing, CSV file I/O (e.g. pd.read_csv)\n",
    "import numpy as np # linear algebra\n",
    "import seaborn as sns #making statistical graphics\n",
    "import matplotlib.pyplot as plt #creating static, animated, and interactive visualizations \n",
    "import plotly.express as px #create entire figures at once.\n"
   ]
  },
  {
   "cell_type": "markdown",
   "metadata": {},
   "source": [
    "# **Loading data**"
   ]
  },
  {
   "cell_type": "code",
   "execution_count": 3,
   "metadata": {
    "execution": {
     "iopub.execute_input": "2024-04-03T13:54:37.027366Z",
     "iopub.status.busy": "2024-04-03T13:54:37.026258Z",
     "iopub.status.idle": "2024-04-03T13:54:37.097389Z",
     "shell.execute_reply": "2024-04-03T13:54:37.096517Z",
     "shell.execute_reply.started": "2024-04-03T13:54:37.027321Z"
    }
   },
   "outputs": [],
   "source": [
    "#Importing data file\n",
    "store_data=pd.read_csv(\"C:\\\\Users\\\\adilv\\\\OneDrive\\\\Desktop\\\\CarDekho dataset\\\\cardekho_dataset.csv\")\n",
    "cars=store_data\n",
    "# Now you can work with your data stored in the DataFrame 'cars'"
   ]
  },
  {
   "cell_type": "code",
   "execution_count": 4,
   "metadata": {
    "execution": {
     "iopub.execute_input": "2024-04-03T13:54:37.101630Z",
     "iopub.status.busy": "2024-04-03T13:54:37.101241Z",
     "iopub.status.idle": "2024-04-03T13:54:37.134969Z",
     "shell.execute_reply": "2024-04-03T13:54:37.134004Z",
     "shell.execute_reply.started": "2024-04-03T13:54:37.101599Z"
    }
   },
   "outputs": [
    {
     "data": {
      "text/html": [
       "<div>\n",
       "<style scoped>\n",
       "    .dataframe tbody tr th:only-of-type {\n",
       "        vertical-align: middle;\n",
       "    }\n",
       "\n",
       "    .dataframe tbody tr th {\n",
       "        vertical-align: top;\n",
       "    }\n",
       "\n",
       "    .dataframe thead th {\n",
       "        text-align: right;\n",
       "    }\n",
       "</style>\n",
       "<table border=\"1\" class=\"dataframe\">\n",
       "  <thead>\n",
       "    <tr style=\"text-align: right;\">\n",
       "      <th></th>\n",
       "      <th>car_name</th>\n",
       "      <th>brand</th>\n",
       "      <th>model</th>\n",
       "      <th>vehicle_age</th>\n",
       "      <th>km_driven</th>\n",
       "      <th>seller_type</th>\n",
       "      <th>fuel_type</th>\n",
       "      <th>transmission_type</th>\n",
       "      <th>mileage</th>\n",
       "      <th>engine</th>\n",
       "      <th>max_power</th>\n",
       "      <th>seats</th>\n",
       "      <th>selling_price</th>\n",
       "    </tr>\n",
       "  </thead>\n",
       "  <tbody>\n",
       "    <tr>\n",
       "      <th>0</th>\n",
       "      <td>Maruti Alto</td>\n",
       "      <td>Maruti</td>\n",
       "      <td>Alto</td>\n",
       "      <td>9</td>\n",
       "      <td>120000</td>\n",
       "      <td>Individual</td>\n",
       "      <td>Petrol</td>\n",
       "      <td>Manual</td>\n",
       "      <td>19.70</td>\n",
       "      <td>796</td>\n",
       "      <td>46.30</td>\n",
       "      <td>5</td>\n",
       "      <td>120000</td>\n",
       "    </tr>\n",
       "    <tr>\n",
       "      <th>1</th>\n",
       "      <td>Hyundai Grand</td>\n",
       "      <td>Hyundai</td>\n",
       "      <td>Grand</td>\n",
       "      <td>5</td>\n",
       "      <td>20000</td>\n",
       "      <td>Individual</td>\n",
       "      <td>Petrol</td>\n",
       "      <td>Manual</td>\n",
       "      <td>18.90</td>\n",
       "      <td>1197</td>\n",
       "      <td>82.00</td>\n",
       "      <td>5</td>\n",
       "      <td>550000</td>\n",
       "    </tr>\n",
       "    <tr>\n",
       "      <th>2</th>\n",
       "      <td>Hyundai i20</td>\n",
       "      <td>Hyundai</td>\n",
       "      <td>i20</td>\n",
       "      <td>11</td>\n",
       "      <td>60000</td>\n",
       "      <td>Individual</td>\n",
       "      <td>Petrol</td>\n",
       "      <td>Manual</td>\n",
       "      <td>17.00</td>\n",
       "      <td>1197</td>\n",
       "      <td>80.00</td>\n",
       "      <td>5</td>\n",
       "      <td>215000</td>\n",
       "    </tr>\n",
       "    <tr>\n",
       "      <th>3</th>\n",
       "      <td>Maruti Alto</td>\n",
       "      <td>Maruti</td>\n",
       "      <td>Alto</td>\n",
       "      <td>9</td>\n",
       "      <td>37000</td>\n",
       "      <td>Individual</td>\n",
       "      <td>Petrol</td>\n",
       "      <td>Manual</td>\n",
       "      <td>20.92</td>\n",
       "      <td>998</td>\n",
       "      <td>67.10</td>\n",
       "      <td>5</td>\n",
       "      <td>226000</td>\n",
       "    </tr>\n",
       "    <tr>\n",
       "      <th>4</th>\n",
       "      <td>Ford Ecosport</td>\n",
       "      <td>Ford</td>\n",
       "      <td>Ecosport</td>\n",
       "      <td>6</td>\n",
       "      <td>30000</td>\n",
       "      <td>Dealer</td>\n",
       "      <td>Diesel</td>\n",
       "      <td>Manual</td>\n",
       "      <td>22.77</td>\n",
       "      <td>1498</td>\n",
       "      <td>98.59</td>\n",
       "      <td>5</td>\n",
       "      <td>570000</td>\n",
       "    </tr>\n",
       "    <tr>\n",
       "      <th>...</th>\n",
       "      <td>...</td>\n",
       "      <td>...</td>\n",
       "      <td>...</td>\n",
       "      <td>...</td>\n",
       "      <td>...</td>\n",
       "      <td>...</td>\n",
       "      <td>...</td>\n",
       "      <td>...</td>\n",
       "      <td>...</td>\n",
       "      <td>...</td>\n",
       "      <td>...</td>\n",
       "      <td>...</td>\n",
       "      <td>...</td>\n",
       "    </tr>\n",
       "    <tr>\n",
       "      <th>15406</th>\n",
       "      <td>Hyundai i10</td>\n",
       "      <td>Hyundai</td>\n",
       "      <td>i10</td>\n",
       "      <td>9</td>\n",
       "      <td>10723</td>\n",
       "      <td>Dealer</td>\n",
       "      <td>Petrol</td>\n",
       "      <td>Manual</td>\n",
       "      <td>19.81</td>\n",
       "      <td>1086</td>\n",
       "      <td>68.05</td>\n",
       "      <td>5</td>\n",
       "      <td>250000</td>\n",
       "    </tr>\n",
       "    <tr>\n",
       "      <th>15407</th>\n",
       "      <td>Maruti Ertiga</td>\n",
       "      <td>Maruti</td>\n",
       "      <td>Ertiga</td>\n",
       "      <td>2</td>\n",
       "      <td>18000</td>\n",
       "      <td>Dealer</td>\n",
       "      <td>Petrol</td>\n",
       "      <td>Manual</td>\n",
       "      <td>17.50</td>\n",
       "      <td>1373</td>\n",
       "      <td>91.10</td>\n",
       "      <td>7</td>\n",
       "      <td>925000</td>\n",
       "    </tr>\n",
       "    <tr>\n",
       "      <th>15408</th>\n",
       "      <td>Skoda Rapid</td>\n",
       "      <td>Skoda</td>\n",
       "      <td>Rapid</td>\n",
       "      <td>6</td>\n",
       "      <td>67000</td>\n",
       "      <td>Dealer</td>\n",
       "      <td>Diesel</td>\n",
       "      <td>Manual</td>\n",
       "      <td>21.14</td>\n",
       "      <td>1498</td>\n",
       "      <td>103.52</td>\n",
       "      <td>5</td>\n",
       "      <td>425000</td>\n",
       "    </tr>\n",
       "    <tr>\n",
       "      <th>15409</th>\n",
       "      <td>Mahindra XUV500</td>\n",
       "      <td>Mahindra</td>\n",
       "      <td>XUV500</td>\n",
       "      <td>5</td>\n",
       "      <td>3800000</td>\n",
       "      <td>Dealer</td>\n",
       "      <td>Diesel</td>\n",
       "      <td>Manual</td>\n",
       "      <td>16.00</td>\n",
       "      <td>2179</td>\n",
       "      <td>140.00</td>\n",
       "      <td>7</td>\n",
       "      <td>1225000</td>\n",
       "    </tr>\n",
       "    <tr>\n",
       "      <th>15410</th>\n",
       "      <td>Honda City</td>\n",
       "      <td>Honda</td>\n",
       "      <td>City</td>\n",
       "      <td>2</td>\n",
       "      <td>13000</td>\n",
       "      <td>Dealer</td>\n",
       "      <td>Petrol</td>\n",
       "      <td>Automatic</td>\n",
       "      <td>18.00</td>\n",
       "      <td>1497</td>\n",
       "      <td>117.60</td>\n",
       "      <td>5</td>\n",
       "      <td>1200000</td>\n",
       "    </tr>\n",
       "  </tbody>\n",
       "</table>\n",
       "<p>15411 rows × 13 columns</p>\n",
       "</div>"
      ],
      "text/plain": [
       "              car_name     brand     model  vehicle_age  km_driven  \\\n",
       "0          Maruti Alto    Maruti      Alto            9     120000   \n",
       "1        Hyundai Grand   Hyundai     Grand            5      20000   \n",
       "2          Hyundai i20   Hyundai       i20           11      60000   \n",
       "3          Maruti Alto    Maruti      Alto            9      37000   \n",
       "4        Ford Ecosport      Ford  Ecosport            6      30000   \n",
       "...                ...       ...       ...          ...        ...   \n",
       "15406      Hyundai i10   Hyundai       i10            9      10723   \n",
       "15407    Maruti Ertiga    Maruti    Ertiga            2      18000   \n",
       "15408      Skoda Rapid     Skoda     Rapid            6      67000   \n",
       "15409  Mahindra XUV500  Mahindra    XUV500            5    3800000   \n",
       "15410       Honda City     Honda      City            2      13000   \n",
       "\n",
       "      seller_type fuel_type transmission_type  mileage  engine  max_power  \\\n",
       "0      Individual    Petrol            Manual    19.70     796      46.30   \n",
       "1      Individual    Petrol            Manual    18.90    1197      82.00   \n",
       "2      Individual    Petrol            Manual    17.00    1197      80.00   \n",
       "3      Individual    Petrol            Manual    20.92     998      67.10   \n",
       "4          Dealer    Diesel            Manual    22.77    1498      98.59   \n",
       "...           ...       ...               ...      ...     ...        ...   \n",
       "15406      Dealer    Petrol            Manual    19.81    1086      68.05   \n",
       "15407      Dealer    Petrol            Manual    17.50    1373      91.10   \n",
       "15408      Dealer    Diesel            Manual    21.14    1498     103.52   \n",
       "15409      Dealer    Diesel            Manual    16.00    2179     140.00   \n",
       "15410      Dealer    Petrol         Automatic    18.00    1497     117.60   \n",
       "\n",
       "       seats  selling_price  \n",
       "0          5         120000  \n",
       "1          5         550000  \n",
       "2          5         215000  \n",
       "3          5         226000  \n",
       "4          5         570000  \n",
       "...      ...            ...  \n",
       "15406      5         250000  \n",
       "15407      7         925000  \n",
       "15408      5         425000  \n",
       "15409      7        1225000  \n",
       "15410      5        1200000  \n",
       "\n",
       "[15411 rows x 13 columns]"
      ]
     },
     "execution_count": 4,
     "metadata": {},
     "output_type": "execute_result"
    }
   ],
   "source": [
    "cars"
   ]
  },
  {
   "cell_type": "markdown",
   "metadata": {},
   "source": [
    "*  car_name: Car's Full name, which includes brand and specific model name.\n",
    "* brand: Brand Name of the particular car\n",
    "* model: Exact model name of the car of a particular brand.\n",
    "* seller_type: Which Type of seller is selling the used car\n",
    "* fuel_type: Fuel used in the used car, which was put up on sale.\n",
    "* transmission_type: Transmission used in the used car, which was put on sale.\n",
    "* vehicle_age: The count of years since car was bought.\n",
    "* mileage: It is the number of kilometer the car runs per litre.\n",
    "* engine: It is the engine capacity in cc(cubic centimeters)\n",
    "* max_power: Max power it produces in BHP.\n",
    "* seats: Total number of seats in car.\n",
    "* selling_price: The sale price which was put up on website.\n"
   ]
  },
  {
   "cell_type": "markdown",
   "metadata": {},
   "source": [
    "# **Data Cleaning**\n",
    "\n",
    "Not required as there is no null and Duplicted values in this dataset"
   ]
  },
  {
   "cell_type": "code",
   "execution_count": 5,
   "metadata": {
    "execution": {
     "iopub.execute_input": "2024-04-03T13:54:37.136724Z",
     "iopub.status.busy": "2024-04-03T13:54:37.136296Z",
     "iopub.status.idle": "2024-04-03T13:54:37.165213Z",
     "shell.execute_reply": "2024-04-03T13:54:37.164385Z",
     "shell.execute_reply.started": "2024-04-03T13:54:37.136695Z"
    }
   },
   "outputs": [
    {
     "data": {
      "text/plain": [
       "167"
      ]
     },
     "execution_count": 5,
     "metadata": {},
     "output_type": "execute_result"
    }
   ],
   "source": [
    "#To find out weather any duplicates are there in the dataframe\n",
    "cars.duplicated().sum()"
   ]
  },
  {
   "cell_type": "code",
   "execution_count": 6,
   "metadata": {
    "execution": {
     "iopub.execute_input": "2024-04-03T13:54:37.167200Z",
     "iopub.status.busy": "2024-04-03T13:54:37.166185Z",
     "iopub.status.idle": "2024-04-03T13:54:37.181618Z",
     "shell.execute_reply": "2024-04-03T13:54:37.180464Z",
     "shell.execute_reply.started": "2024-04-03T13:54:37.167160Z"
    }
   },
   "outputs": [
    {
     "data": {
      "text/plain": [
       "car_name             0\n",
       "brand                0\n",
       "model                0\n",
       "vehicle_age          0\n",
       "km_driven            0\n",
       "seller_type          0\n",
       "fuel_type            0\n",
       "transmission_type    0\n",
       "mileage              0\n",
       "engine               0\n",
       "max_power            0\n",
       "seats                0\n",
       "selling_price        0\n",
       "dtype: int64"
      ]
     },
     "execution_count": 6,
     "metadata": {},
     "output_type": "execute_result"
    }
   ],
   "source": [
    "#To find out null values\n",
    "cars.isnull().sum()"
   ]
  },
  {
   "cell_type": "markdown",
   "metadata": {},
   "source": [
    "**Outcome:** No null values are found"
   ]
  },
  {
   "cell_type": "markdown",
   "metadata": {},
   "source": [
    "# **Exploratory Data Analysis**"
   ]
  },
  {
   "cell_type": "code",
   "execution_count": 7,
   "metadata": {
    "execution": {
     "iopub.execute_input": "2024-04-03T13:54:37.183094Z",
     "iopub.status.busy": "2024-04-03T13:54:37.182807Z",
     "iopub.status.idle": "2024-04-03T13:54:37.189061Z",
     "shell.execute_reply": "2024-04-03T13:54:37.188073Z",
     "shell.execute_reply.started": "2024-04-03T13:54:37.183071Z"
    }
   },
   "outputs": [
    {
     "data": {
      "text/plain": [
       "(15411, 13)"
      ]
     },
     "execution_count": 7,
     "metadata": {},
     "output_type": "execute_result"
    }
   ],
   "source": [
    "#Get the dimensions of the dataframe\n",
    "cars.shape"
   ]
  },
  {
   "cell_type": "code",
   "execution_count": 8,
   "metadata": {
    "execution": {
     "iopub.execute_input": "2024-04-03T13:54:37.190770Z",
     "iopub.status.busy": "2024-04-03T13:54:37.190438Z",
     "iopub.status.idle": "2024-04-03T13:54:37.211909Z",
     "shell.execute_reply": "2024-04-03T13:54:37.211031Z",
     "shell.execute_reply.started": "2024-04-03T13:54:37.190737Z"
    }
   },
   "outputs": [
    {
     "data": {
      "text/html": [
       "<div>\n",
       "<style scoped>\n",
       "    .dataframe tbody tr th:only-of-type {\n",
       "        vertical-align: middle;\n",
       "    }\n",
       "\n",
       "    .dataframe tbody tr th {\n",
       "        vertical-align: top;\n",
       "    }\n",
       "\n",
       "    .dataframe thead th {\n",
       "        text-align: right;\n",
       "    }\n",
       "</style>\n",
       "<table border=\"1\" class=\"dataframe\">\n",
       "  <thead>\n",
       "    <tr style=\"text-align: right;\">\n",
       "      <th></th>\n",
       "      <th>car_name</th>\n",
       "      <th>brand</th>\n",
       "      <th>model</th>\n",
       "      <th>vehicle_age</th>\n",
       "      <th>km_driven</th>\n",
       "      <th>seller_type</th>\n",
       "      <th>fuel_type</th>\n",
       "      <th>transmission_type</th>\n",
       "      <th>mileage</th>\n",
       "      <th>engine</th>\n",
       "      <th>max_power</th>\n",
       "      <th>seats</th>\n",
       "      <th>selling_price</th>\n",
       "    </tr>\n",
       "  </thead>\n",
       "  <tbody>\n",
       "    <tr>\n",
       "      <th>0</th>\n",
       "      <td>Maruti Alto</td>\n",
       "      <td>Maruti</td>\n",
       "      <td>Alto</td>\n",
       "      <td>9</td>\n",
       "      <td>120000</td>\n",
       "      <td>Individual</td>\n",
       "      <td>Petrol</td>\n",
       "      <td>Manual</td>\n",
       "      <td>19.70</td>\n",
       "      <td>796</td>\n",
       "      <td>46.30</td>\n",
       "      <td>5</td>\n",
       "      <td>120000</td>\n",
       "    </tr>\n",
       "    <tr>\n",
       "      <th>1</th>\n",
       "      <td>Hyundai Grand</td>\n",
       "      <td>Hyundai</td>\n",
       "      <td>Grand</td>\n",
       "      <td>5</td>\n",
       "      <td>20000</td>\n",
       "      <td>Individual</td>\n",
       "      <td>Petrol</td>\n",
       "      <td>Manual</td>\n",
       "      <td>18.90</td>\n",
       "      <td>1197</td>\n",
       "      <td>82.00</td>\n",
       "      <td>5</td>\n",
       "      <td>550000</td>\n",
       "    </tr>\n",
       "    <tr>\n",
       "      <th>2</th>\n",
       "      <td>Hyundai i20</td>\n",
       "      <td>Hyundai</td>\n",
       "      <td>i20</td>\n",
       "      <td>11</td>\n",
       "      <td>60000</td>\n",
       "      <td>Individual</td>\n",
       "      <td>Petrol</td>\n",
       "      <td>Manual</td>\n",
       "      <td>17.00</td>\n",
       "      <td>1197</td>\n",
       "      <td>80.00</td>\n",
       "      <td>5</td>\n",
       "      <td>215000</td>\n",
       "    </tr>\n",
       "    <tr>\n",
       "      <th>3</th>\n",
       "      <td>Maruti Alto</td>\n",
       "      <td>Maruti</td>\n",
       "      <td>Alto</td>\n",
       "      <td>9</td>\n",
       "      <td>37000</td>\n",
       "      <td>Individual</td>\n",
       "      <td>Petrol</td>\n",
       "      <td>Manual</td>\n",
       "      <td>20.92</td>\n",
       "      <td>998</td>\n",
       "      <td>67.10</td>\n",
       "      <td>5</td>\n",
       "      <td>226000</td>\n",
       "    </tr>\n",
       "    <tr>\n",
       "      <th>4</th>\n",
       "      <td>Ford Ecosport</td>\n",
       "      <td>Ford</td>\n",
       "      <td>Ecosport</td>\n",
       "      <td>6</td>\n",
       "      <td>30000</td>\n",
       "      <td>Dealer</td>\n",
       "      <td>Diesel</td>\n",
       "      <td>Manual</td>\n",
       "      <td>22.77</td>\n",
       "      <td>1498</td>\n",
       "      <td>98.59</td>\n",
       "      <td>5</td>\n",
       "      <td>570000</td>\n",
       "    </tr>\n",
       "  </tbody>\n",
       "</table>\n",
       "</div>"
      ],
      "text/plain": [
       "        car_name    brand     model  vehicle_age  km_driven seller_type  \\\n",
       "0    Maruti Alto   Maruti      Alto            9     120000  Individual   \n",
       "1  Hyundai Grand  Hyundai     Grand            5      20000  Individual   \n",
       "2    Hyundai i20  Hyundai       i20           11      60000  Individual   \n",
       "3    Maruti Alto   Maruti      Alto            9      37000  Individual   \n",
       "4  Ford Ecosport     Ford  Ecosport            6      30000      Dealer   \n",
       "\n",
       "  fuel_type transmission_type  mileage  engine  max_power  seats  \\\n",
       "0    Petrol            Manual    19.70     796      46.30      5   \n",
       "1    Petrol            Manual    18.90    1197      82.00      5   \n",
       "2    Petrol            Manual    17.00    1197      80.00      5   \n",
       "3    Petrol            Manual    20.92     998      67.10      5   \n",
       "4    Diesel            Manual    22.77    1498      98.59      5   \n",
       "\n",
       "   selling_price  \n",
       "0         120000  \n",
       "1         550000  \n",
       "2         215000  \n",
       "3         226000  \n",
       "4         570000  "
      ]
     },
     "execution_count": 8,
     "metadata": {},
     "output_type": "execute_result"
    }
   ],
   "source": [
    "#To get the insights of top 5 rows and columns\n",
    "cars.head()"
   ]
  },
  {
   "cell_type": "markdown",
   "metadata": {},
   "source": []
  },
  {
   "cell_type": "code",
   "execution_count": 9,
   "metadata": {
    "execution": {
     "iopub.execute_input": "2024-04-03T13:54:37.213689Z",
     "iopub.status.busy": "2024-04-03T13:54:37.213368Z",
     "iopub.status.idle": "2024-04-03T13:54:37.236267Z",
     "shell.execute_reply": "2024-04-03T13:54:37.235120Z",
     "shell.execute_reply.started": "2024-04-03T13:54:37.213661Z"
    }
   },
   "outputs": [
    {
     "data": {
      "text/html": [
       "<div>\n",
       "<style scoped>\n",
       "    .dataframe tbody tr th:only-of-type {\n",
       "        vertical-align: middle;\n",
       "    }\n",
       "\n",
       "    .dataframe tbody tr th {\n",
       "        vertical-align: top;\n",
       "    }\n",
       "\n",
       "    .dataframe thead th {\n",
       "        text-align: right;\n",
       "    }\n",
       "</style>\n",
       "<table border=\"1\" class=\"dataframe\">\n",
       "  <thead>\n",
       "    <tr style=\"text-align: right;\">\n",
       "      <th></th>\n",
       "      <th>car_name</th>\n",
       "      <th>brand</th>\n",
       "      <th>model</th>\n",
       "      <th>vehicle_age</th>\n",
       "      <th>km_driven</th>\n",
       "      <th>seller_type</th>\n",
       "      <th>fuel_type</th>\n",
       "      <th>transmission_type</th>\n",
       "      <th>mileage</th>\n",
       "      <th>engine</th>\n",
       "      <th>max_power</th>\n",
       "      <th>seats</th>\n",
       "      <th>selling_price</th>\n",
       "    </tr>\n",
       "  </thead>\n",
       "  <tbody>\n",
       "    <tr>\n",
       "      <th>15406</th>\n",
       "      <td>Hyundai i10</td>\n",
       "      <td>Hyundai</td>\n",
       "      <td>i10</td>\n",
       "      <td>9</td>\n",
       "      <td>10723</td>\n",
       "      <td>Dealer</td>\n",
       "      <td>Petrol</td>\n",
       "      <td>Manual</td>\n",
       "      <td>19.81</td>\n",
       "      <td>1086</td>\n",
       "      <td>68.05</td>\n",
       "      <td>5</td>\n",
       "      <td>250000</td>\n",
       "    </tr>\n",
       "    <tr>\n",
       "      <th>15407</th>\n",
       "      <td>Maruti Ertiga</td>\n",
       "      <td>Maruti</td>\n",
       "      <td>Ertiga</td>\n",
       "      <td>2</td>\n",
       "      <td>18000</td>\n",
       "      <td>Dealer</td>\n",
       "      <td>Petrol</td>\n",
       "      <td>Manual</td>\n",
       "      <td>17.50</td>\n",
       "      <td>1373</td>\n",
       "      <td>91.10</td>\n",
       "      <td>7</td>\n",
       "      <td>925000</td>\n",
       "    </tr>\n",
       "    <tr>\n",
       "      <th>15408</th>\n",
       "      <td>Skoda Rapid</td>\n",
       "      <td>Skoda</td>\n",
       "      <td>Rapid</td>\n",
       "      <td>6</td>\n",
       "      <td>67000</td>\n",
       "      <td>Dealer</td>\n",
       "      <td>Diesel</td>\n",
       "      <td>Manual</td>\n",
       "      <td>21.14</td>\n",
       "      <td>1498</td>\n",
       "      <td>103.52</td>\n",
       "      <td>5</td>\n",
       "      <td>425000</td>\n",
       "    </tr>\n",
       "    <tr>\n",
       "      <th>15409</th>\n",
       "      <td>Mahindra XUV500</td>\n",
       "      <td>Mahindra</td>\n",
       "      <td>XUV500</td>\n",
       "      <td>5</td>\n",
       "      <td>3800000</td>\n",
       "      <td>Dealer</td>\n",
       "      <td>Diesel</td>\n",
       "      <td>Manual</td>\n",
       "      <td>16.00</td>\n",
       "      <td>2179</td>\n",
       "      <td>140.00</td>\n",
       "      <td>7</td>\n",
       "      <td>1225000</td>\n",
       "    </tr>\n",
       "    <tr>\n",
       "      <th>15410</th>\n",
       "      <td>Honda City</td>\n",
       "      <td>Honda</td>\n",
       "      <td>City</td>\n",
       "      <td>2</td>\n",
       "      <td>13000</td>\n",
       "      <td>Dealer</td>\n",
       "      <td>Petrol</td>\n",
       "      <td>Automatic</td>\n",
       "      <td>18.00</td>\n",
       "      <td>1497</td>\n",
       "      <td>117.60</td>\n",
       "      <td>5</td>\n",
       "      <td>1200000</td>\n",
       "    </tr>\n",
       "  </tbody>\n",
       "</table>\n",
       "</div>"
      ],
      "text/plain": [
       "              car_name     brand   model  vehicle_age  km_driven seller_type  \\\n",
       "15406      Hyundai i10   Hyundai     i10            9      10723      Dealer   \n",
       "15407    Maruti Ertiga    Maruti  Ertiga            2      18000      Dealer   \n",
       "15408      Skoda Rapid     Skoda   Rapid            6      67000      Dealer   \n",
       "15409  Mahindra XUV500  Mahindra  XUV500            5    3800000      Dealer   \n",
       "15410       Honda City     Honda    City            2      13000      Dealer   \n",
       "\n",
       "      fuel_type transmission_type  mileage  engine  max_power  seats  \\\n",
       "15406    Petrol            Manual    19.81    1086      68.05      5   \n",
       "15407    Petrol            Manual    17.50    1373      91.10      7   \n",
       "15408    Diesel            Manual    21.14    1498     103.52      5   \n",
       "15409    Diesel            Manual    16.00    2179     140.00      7   \n",
       "15410    Petrol         Automatic    18.00    1497     117.60      5   \n",
       "\n",
       "       selling_price  \n",
       "15406         250000  \n",
       "15407         925000  \n",
       "15408         425000  \n",
       "15409        1225000  \n",
       "15410        1200000  "
      ]
     },
     "execution_count": 9,
     "metadata": {},
     "output_type": "execute_result"
    }
   ],
   "source": [
    "#To get the insights of bottom 5 rows and columns\n",
    "cars.tail()"
   ]
  },
  {
   "cell_type": "markdown",
   "metadata": {},
   "source": []
  },
  {
   "cell_type": "code",
   "execution_count": 10,
   "metadata": {
    "execution": {
     "iopub.execute_input": "2024-04-03T13:54:37.242205Z",
     "iopub.status.busy": "2024-04-03T13:54:37.241776Z",
     "iopub.status.idle": "2024-04-03T13:54:37.248640Z",
     "shell.execute_reply": "2024-04-03T13:54:37.247512Z",
     "shell.execute_reply.started": "2024-04-03T13:54:37.242176Z"
    }
   },
   "outputs": [
    {
     "data": {
      "text/plain": [
       "Index(['car_name', 'brand', 'model', 'vehicle_age', 'km_driven', 'seller_type',\n",
       "       'fuel_type', 'transmission_type', 'mileage', 'engine', 'max_power',\n",
       "       'seats', 'selling_price'],\n",
       "      dtype='object')"
      ]
     },
     "execution_count": 10,
     "metadata": {},
     "output_type": "execute_result"
    }
   ],
   "source": [
    "#To know the columns in the dataframe\n",
    "cars.columns"
   ]
  },
  {
   "cell_type": "code",
   "execution_count": 11,
   "metadata": {
    "execution": {
     "iopub.execute_input": "2024-04-03T13:54:37.250422Z",
     "iopub.status.busy": "2024-04-03T13:54:37.250074Z",
     "iopub.status.idle": "2024-04-03T13:54:37.259566Z",
     "shell.execute_reply": "2024-04-03T13:54:37.258755Z",
     "shell.execute_reply.started": "2024-04-03T13:54:37.250395Z"
    }
   },
   "outputs": [
    {
     "data": {
      "text/plain": [
       "car_name              object\n",
       "brand                 object\n",
       "model                 object\n",
       "vehicle_age            int64\n",
       "km_driven              int64\n",
       "seller_type           object\n",
       "fuel_type             object\n",
       "transmission_type     object\n",
       "mileage              float64\n",
       "engine                 int64\n",
       "max_power            float64\n",
       "seats                  int64\n",
       "selling_price          int64\n",
       "dtype: object"
      ]
     },
     "execution_count": 11,
     "metadata": {},
     "output_type": "execute_result"
    }
   ],
   "source": [
    "#To get insights of the datatypes in the dataframe\n",
    "cars.dtypes"
   ]
  },
  {
   "cell_type": "code",
   "execution_count": 12,
   "metadata": {
    "execution": {
     "iopub.execute_input": "2024-04-03T13:54:37.260709Z",
     "iopub.status.busy": "2024-04-03T13:54:37.260404Z",
     "iopub.status.idle": "2024-04-03T13:54:37.277910Z",
     "shell.execute_reply": "2024-04-03T13:54:37.276881Z",
     "shell.execute_reply.started": "2024-04-03T13:54:37.260683Z"
    }
   },
   "outputs": [
    {
     "data": {
      "text/plain": [
       "<bound method DataFrame.info of               car_name     brand     model  vehicle_age  km_driven  \\\n",
       "0          Maruti Alto    Maruti      Alto            9     120000   \n",
       "1        Hyundai Grand   Hyundai     Grand            5      20000   \n",
       "2          Hyundai i20   Hyundai       i20           11      60000   \n",
       "3          Maruti Alto    Maruti      Alto            9      37000   \n",
       "4        Ford Ecosport      Ford  Ecosport            6      30000   \n",
       "...                ...       ...       ...          ...        ...   \n",
       "15406      Hyundai i10   Hyundai       i10            9      10723   \n",
       "15407    Maruti Ertiga    Maruti    Ertiga            2      18000   \n",
       "15408      Skoda Rapid     Skoda     Rapid            6      67000   \n",
       "15409  Mahindra XUV500  Mahindra    XUV500            5    3800000   \n",
       "15410       Honda City     Honda      City            2      13000   \n",
       "\n",
       "      seller_type fuel_type transmission_type  mileage  engine  max_power  \\\n",
       "0      Individual    Petrol            Manual    19.70     796      46.30   \n",
       "1      Individual    Petrol            Manual    18.90    1197      82.00   \n",
       "2      Individual    Petrol            Manual    17.00    1197      80.00   \n",
       "3      Individual    Petrol            Manual    20.92     998      67.10   \n",
       "4          Dealer    Diesel            Manual    22.77    1498      98.59   \n",
       "...           ...       ...               ...      ...     ...        ...   \n",
       "15406      Dealer    Petrol            Manual    19.81    1086      68.05   \n",
       "15407      Dealer    Petrol            Manual    17.50    1373      91.10   \n",
       "15408      Dealer    Diesel            Manual    21.14    1498     103.52   \n",
       "15409      Dealer    Diesel            Manual    16.00    2179     140.00   \n",
       "15410      Dealer    Petrol         Automatic    18.00    1497     117.60   \n",
       "\n",
       "       seats  selling_price  \n",
       "0          5         120000  \n",
       "1          5         550000  \n",
       "2          5         215000  \n",
       "3          5         226000  \n",
       "4          5         570000  \n",
       "...      ...            ...  \n",
       "15406      5         250000  \n",
       "15407      7         925000  \n",
       "15408      5         425000  \n",
       "15409      7        1225000  \n",
       "15410      5        1200000  \n",
       "\n",
       "[15411 rows x 13 columns]>"
      ]
     },
     "execution_count": 12,
     "metadata": {},
     "output_type": "execute_result"
    }
   ],
   "source": [
    "#Provides a consize summary of the dataframe\n",
    "cars.info"
   ]
  },
  {
   "cell_type": "markdown",
   "metadata": {},
   "source": [
    "**Outcome**-There are no Null Values found in this dataset"
   ]
  },
  {
   "cell_type": "code",
   "execution_count": 13,
   "metadata": {
    "execution": {
     "iopub.execute_input": "2024-04-03T13:54:37.279739Z",
     "iopub.status.busy": "2024-04-03T13:54:37.279410Z",
     "iopub.status.idle": "2024-04-03T13:54:37.316590Z",
     "shell.execute_reply": "2024-04-03T13:54:37.315559Z",
     "shell.execute_reply.started": "2024-04-03T13:54:37.279712Z"
    }
   },
   "outputs": [
    {
     "data": {
      "text/html": [
       "<div>\n",
       "<style scoped>\n",
       "    .dataframe tbody tr th:only-of-type {\n",
       "        vertical-align: middle;\n",
       "    }\n",
       "\n",
       "    .dataframe tbody tr th {\n",
       "        vertical-align: top;\n",
       "    }\n",
       "\n",
       "    .dataframe thead th {\n",
       "        text-align: right;\n",
       "    }\n",
       "</style>\n",
       "<table border=\"1\" class=\"dataframe\">\n",
       "  <thead>\n",
       "    <tr style=\"text-align: right;\">\n",
       "      <th></th>\n",
       "      <th>vehicle_age</th>\n",
       "      <th>km_driven</th>\n",
       "      <th>mileage</th>\n",
       "      <th>engine</th>\n",
       "      <th>max_power</th>\n",
       "      <th>seats</th>\n",
       "      <th>selling_price</th>\n",
       "    </tr>\n",
       "  </thead>\n",
       "  <tbody>\n",
       "    <tr>\n",
       "      <th>count</th>\n",
       "      <td>15411.000000</td>\n",
       "      <td>1.541100e+04</td>\n",
       "      <td>15411.000000</td>\n",
       "      <td>15411.000000</td>\n",
       "      <td>15411.000000</td>\n",
       "      <td>15411.000000</td>\n",
       "      <td>1.541100e+04</td>\n",
       "    </tr>\n",
       "    <tr>\n",
       "      <th>mean</th>\n",
       "      <td>6.036338</td>\n",
       "      <td>5.561648e+04</td>\n",
       "      <td>19.701151</td>\n",
       "      <td>1486.057751</td>\n",
       "      <td>100.588254</td>\n",
       "      <td>5.325482</td>\n",
       "      <td>7.749711e+05</td>\n",
       "    </tr>\n",
       "    <tr>\n",
       "      <th>std</th>\n",
       "      <td>3.013291</td>\n",
       "      <td>5.161855e+04</td>\n",
       "      <td>4.171265</td>\n",
       "      <td>521.106696</td>\n",
       "      <td>42.972979</td>\n",
       "      <td>0.807628</td>\n",
       "      <td>8.941284e+05</td>\n",
       "    </tr>\n",
       "    <tr>\n",
       "      <th>min</th>\n",
       "      <td>0.000000</td>\n",
       "      <td>1.000000e+02</td>\n",
       "      <td>4.000000</td>\n",
       "      <td>793.000000</td>\n",
       "      <td>38.400000</td>\n",
       "      <td>0.000000</td>\n",
       "      <td>4.000000e+04</td>\n",
       "    </tr>\n",
       "    <tr>\n",
       "      <th>25%</th>\n",
       "      <td>4.000000</td>\n",
       "      <td>3.000000e+04</td>\n",
       "      <td>17.000000</td>\n",
       "      <td>1197.000000</td>\n",
       "      <td>74.000000</td>\n",
       "      <td>5.000000</td>\n",
       "      <td>3.850000e+05</td>\n",
       "    </tr>\n",
       "    <tr>\n",
       "      <th>50%</th>\n",
       "      <td>6.000000</td>\n",
       "      <td>5.000000e+04</td>\n",
       "      <td>19.670000</td>\n",
       "      <td>1248.000000</td>\n",
       "      <td>88.500000</td>\n",
       "      <td>5.000000</td>\n",
       "      <td>5.560000e+05</td>\n",
       "    </tr>\n",
       "    <tr>\n",
       "      <th>75%</th>\n",
       "      <td>8.000000</td>\n",
       "      <td>7.000000e+04</td>\n",
       "      <td>22.700000</td>\n",
       "      <td>1582.000000</td>\n",
       "      <td>117.300000</td>\n",
       "      <td>5.000000</td>\n",
       "      <td>8.250000e+05</td>\n",
       "    </tr>\n",
       "    <tr>\n",
       "      <th>max</th>\n",
       "      <td>29.000000</td>\n",
       "      <td>3.800000e+06</td>\n",
       "      <td>33.540000</td>\n",
       "      <td>6592.000000</td>\n",
       "      <td>626.000000</td>\n",
       "      <td>9.000000</td>\n",
       "      <td>3.950000e+07</td>\n",
       "    </tr>\n",
       "  </tbody>\n",
       "</table>\n",
       "</div>"
      ],
      "text/plain": [
       "        vehicle_age     km_driven       mileage        engine     max_power  \\\n",
       "count  15411.000000  1.541100e+04  15411.000000  15411.000000  15411.000000   \n",
       "mean       6.036338  5.561648e+04     19.701151   1486.057751    100.588254   \n",
       "std        3.013291  5.161855e+04      4.171265    521.106696     42.972979   \n",
       "min        0.000000  1.000000e+02      4.000000    793.000000     38.400000   \n",
       "25%        4.000000  3.000000e+04     17.000000   1197.000000     74.000000   \n",
       "50%        6.000000  5.000000e+04     19.670000   1248.000000     88.500000   \n",
       "75%        8.000000  7.000000e+04     22.700000   1582.000000    117.300000   \n",
       "max       29.000000  3.800000e+06     33.540000   6592.000000    626.000000   \n",
       "\n",
       "              seats  selling_price  \n",
       "count  15411.000000   1.541100e+04  \n",
       "mean       5.325482   7.749711e+05  \n",
       "std        0.807628   8.941284e+05  \n",
       "min        0.000000   4.000000e+04  \n",
       "25%        5.000000   3.850000e+05  \n",
       "50%        5.000000   5.560000e+05  \n",
       "75%        5.000000   8.250000e+05  \n",
       "max        9.000000   3.950000e+07  "
      ]
     },
     "execution_count": 13,
     "metadata": {},
     "output_type": "execute_result"
    }
   ],
   "source": [
    "#To get descriptive statistics for each numeric column in the dataframe\n",
    "cars.describe()"
   ]
  },
  {
   "cell_type": "code",
   "execution_count": 14,
   "metadata": {
    "execution": {
     "iopub.execute_input": "2024-04-03T13:54:37.318722Z",
     "iopub.status.busy": "2024-04-03T13:54:37.318405Z",
     "iopub.status.idle": "2024-04-03T13:54:37.337111Z",
     "shell.execute_reply": "2024-04-03T13:54:37.336004Z",
     "shell.execute_reply.started": "2024-04-03T13:54:37.318696Z"
    }
   },
   "outputs": [
    {
     "data": {
      "text/plain": [
       "car_name              121\n",
       "brand                  32\n",
       "model                 120\n",
       "vehicle_age            24\n",
       "km_driven            3688\n",
       "seller_type             3\n",
       "fuel_type               5\n",
       "transmission_type       2\n",
       "mileage               411\n",
       "engine                110\n",
       "max_power             342\n",
       "seats                   8\n",
       "selling_price        1086\n",
       "dtype: int64"
      ]
     },
     "execution_count": 14,
     "metadata": {},
     "output_type": "execute_result"
    }
   ],
   "source": [
    "# Count the number of unique values in each column \n",
    "cars.nunique()"
   ]
  },
  {
   "cell_type": "code",
   "execution_count": 15,
   "metadata": {
    "execution": {
     "iopub.execute_input": "2024-04-03T13:54:37.339907Z",
     "iopub.status.busy": "2024-04-03T13:54:37.339501Z",
     "iopub.status.idle": "2024-04-03T13:54:37.350894Z",
     "shell.execute_reply": "2024-04-03T13:54:37.349872Z",
     "shell.execute_reply.started": "2024-04-03T13:54:37.339869Z"
    }
   },
   "outputs": [
    {
     "data": {
      "text/plain": [
       "mileage\n",
       "18.90    632\n",
       "18.60    404\n",
       "17.00    339\n",
       "24.30    292\n",
       "28.40    279\n",
       "        ... \n",
       "7.94       1\n",
       "10.60      1\n",
       "12.39      1\n",
       "6.00       1\n",
       "13.53      1\n",
       "Name: count, Length: 411, dtype: int64"
      ]
     },
     "execution_count": 15,
     "metadata": {},
     "output_type": "execute_result"
    }
   ],
   "source": [
    "#Counts the number of times each value appears in a series.\n",
    "cars['mileage'].value_counts()"
   ]
  },
  {
   "cell_type": "code",
   "execution_count": 16,
   "metadata": {
    "execution": {
     "iopub.execute_input": "2024-04-03T13:54:37.352872Z",
     "iopub.status.busy": "2024-04-03T13:54:37.352332Z",
     "iopub.status.idle": "2024-04-03T13:54:37.364375Z",
     "shell.execute_reply": "2024-04-03T13:54:37.363303Z",
     "shell.execute_reply.started": "2024-04-03T13:54:37.352832Z"
    }
   },
   "outputs": [
    {
     "data": {
      "text/plain": [
       "selling_price\n",
       "450000     357\n",
       "550000     334\n",
       "650000     330\n",
       "350000     320\n",
       "500000     271\n",
       "          ... \n",
       "117000       1\n",
       "1064000      1\n",
       "1472000      1\n",
       "326000       1\n",
       "456000       1\n",
       "Name: count, Length: 1086, dtype: int64"
      ]
     },
     "execution_count": 16,
     "metadata": {},
     "output_type": "execute_result"
    }
   ],
   "source": [
    "cars['selling_price'].value_counts()"
   ]
  },
  {
   "cell_type": "code",
   "execution_count": 17,
   "metadata": {
    "execution": {
     "iopub.execute_input": "2024-04-03T13:54:37.366191Z",
     "iopub.status.busy": "2024-04-03T13:54:37.365701Z",
     "iopub.status.idle": "2024-04-03T13:54:37.374458Z",
     "shell.execute_reply": "2024-04-03T13:54:37.373366Z",
     "shell.execute_reply.started": "2024-04-03T13:54:37.366161Z"
    }
   },
   "outputs": [
    {
     "data": {
      "text/plain": [
       "39500000"
      ]
     },
     "execution_count": 17,
     "metadata": {},
     "output_type": "execute_result"
    }
   ],
   "source": [
    "#Defines maximum value in the list\n",
    "cars['selling_price'].max()"
   ]
  },
  {
   "cell_type": "code",
   "execution_count": 18,
   "metadata": {
    "execution": {
     "iopub.execute_input": "2024-04-03T13:54:37.376532Z",
     "iopub.status.busy": "2024-04-03T13:54:37.375907Z",
     "iopub.status.idle": "2024-04-03T13:54:37.385411Z",
     "shell.execute_reply": "2024-04-03T13:54:37.384577Z",
     "shell.execute_reply.started": "2024-04-03T13:54:37.376493Z"
    }
   },
   "outputs": [
    {
     "data": {
      "text/plain": [
       "40000"
      ]
     },
     "execution_count": 18,
     "metadata": {},
     "output_type": "execute_result"
    }
   ],
   "source": [
    "#Defines mainimum value in the list\n",
    "cars['selling_price'].min()"
   ]
  },
  {
   "cell_type": "code",
   "execution_count": 19,
   "metadata": {
    "execution": {
     "iopub.execute_input": "2024-04-03T13:54:37.386666Z",
     "iopub.status.busy": "2024-04-03T13:54:37.386265Z",
     "iopub.status.idle": "2024-04-03T13:54:37.410356Z",
     "shell.execute_reply": "2024-04-03T13:54:37.409238Z",
     "shell.execute_reply.started": "2024-04-03T13:54:37.386641Z"
    }
   },
   "outputs": [
    {
     "data": {
      "text/html": [
       "<div>\n",
       "<style scoped>\n",
       "    .dataframe tbody tr th:only-of-type {\n",
       "        vertical-align: middle;\n",
       "    }\n",
       "\n",
       "    .dataframe tbody tr th {\n",
       "        vertical-align: top;\n",
       "    }\n",
       "\n",
       "    .dataframe thead th {\n",
       "        text-align: right;\n",
       "    }\n",
       "</style>\n",
       "<table border=\"1\" class=\"dataframe\">\n",
       "  <thead>\n",
       "    <tr style=\"text-align: right;\">\n",
       "      <th></th>\n",
       "      <th></th>\n",
       "      <th>selling_price</th>\n",
       "    </tr>\n",
       "    <tr>\n",
       "      <th>brand</th>\n",
       "      <th>model</th>\n",
       "      <th></th>\n",
       "    </tr>\n",
       "  </thead>\n",
       "  <tbody>\n",
       "    <tr>\n",
       "      <th rowspan=\"4\" valign=\"top\">Audi</th>\n",
       "      <th>A4</th>\n",
       "      <td>4200000</td>\n",
       "    </tr>\n",
       "    <tr>\n",
       "      <th>A6</th>\n",
       "      <td>4600000</td>\n",
       "    </tr>\n",
       "    <tr>\n",
       "      <th>A8</th>\n",
       "      <td>5500000</td>\n",
       "    </tr>\n",
       "    <tr>\n",
       "      <th>Q7</th>\n",
       "      <td>6800000</td>\n",
       "    </tr>\n",
       "    <tr>\n",
       "      <th>BMW</th>\n",
       "      <th>3</th>\n",
       "      <td>4500000</td>\n",
       "    </tr>\n",
       "    <tr>\n",
       "      <th>...</th>\n",
       "      <th>...</th>\n",
       "      <td>...</td>\n",
       "    </tr>\n",
       "    <tr>\n",
       "      <th>Volkswagen</th>\n",
       "      <th>Vento</th>\n",
       "      <td>1250000</td>\n",
       "    </tr>\n",
       "    <tr>\n",
       "      <th rowspan=\"4\" valign=\"top\">Volvo</th>\n",
       "      <th>S90</th>\n",
       "      <td>4750000</td>\n",
       "    </tr>\n",
       "    <tr>\n",
       "      <th>XC</th>\n",
       "      <td>8195000</td>\n",
       "    </tr>\n",
       "    <tr>\n",
       "      <th>XC60</th>\n",
       "      <td>1825000</td>\n",
       "    </tr>\n",
       "    <tr>\n",
       "      <th>XC90</th>\n",
       "      <td>6975000</td>\n",
       "    </tr>\n",
       "  </tbody>\n",
       "</table>\n",
       "<p>121 rows × 1 columns</p>\n",
       "</div>"
      ],
      "text/plain": [
       "                  selling_price\n",
       "brand      model               \n",
       "Audi       A4           4200000\n",
       "           A6           4600000\n",
       "           A8           5500000\n",
       "           Q7           6800000\n",
       "BMW        3            4500000\n",
       "...                         ...\n",
       "Volkswagen Vento        1250000\n",
       "Volvo      S90          4750000\n",
       "           XC           8195000\n",
       "           XC60         1825000\n",
       "           XC90         6975000\n",
       "\n",
       "[121 rows x 1 columns]"
      ]
     },
     "execution_count": 19,
     "metadata": {},
     "output_type": "execute_result"
    }
   ],
   "source": [
    "#Grouping by multiple columns\n",
    "#Aggregates the given column in the given dataframe\n",
    "cars.groupby(['brand','model']).agg({'selling_price':'max'})"
   ]
  },
  {
   "cell_type": "markdown",
   "metadata": {},
   "source": [
    "Outcome- Highest resale for\n",
    "* Audi A4= 4200000 \n",
    "* Audi A6= 4600000\n",
    "* Audi A8= 5500000\n",
    "* Audi Q7= 6800000\n",
    "* BMW   3= 4500000\n",
    "* VW Vento =125000\n",
    "* VolvoS90 = 4750000\n",
    "* XC= 8195000\n",
    "* XC60= 1825000\n",
    "* XC90= 6975000\n",
    " \n",
    "\n"
   ]
  },
  {
   "cell_type": "markdown",
   "metadata": {},
   "source": []
  },
  {
   "cell_type": "code",
   "execution_count": 20,
   "metadata": {
    "execution": {
     "iopub.execute_input": "2024-04-03T13:54:37.411893Z",
     "iopub.status.busy": "2024-04-03T13:54:37.411592Z",
     "iopub.status.idle": "2024-04-03T13:54:37.432056Z",
     "shell.execute_reply": "2024-04-03T13:54:37.430981Z",
     "shell.execute_reply.started": "2024-04-03T13:54:37.411868Z"
    }
   },
   "outputs": [
    {
     "data": {
      "text/html": [
       "<div>\n",
       "<style scoped>\n",
       "    .dataframe tbody tr th:only-of-type {\n",
       "        vertical-align: middle;\n",
       "    }\n",
       "\n",
       "    .dataframe tbody tr th {\n",
       "        vertical-align: top;\n",
       "    }\n",
       "\n",
       "    .dataframe thead th {\n",
       "        text-align: right;\n",
       "    }\n",
       "</style>\n",
       "<table border=\"1\" class=\"dataframe\">\n",
       "  <thead>\n",
       "    <tr style=\"text-align: right;\">\n",
       "      <th></th>\n",
       "      <th></th>\n",
       "      <th>selling_price</th>\n",
       "    </tr>\n",
       "    <tr>\n",
       "      <th>brand</th>\n",
       "      <th>car_name</th>\n",
       "      <th></th>\n",
       "    </tr>\n",
       "  </thead>\n",
       "  <tbody>\n",
       "    <tr>\n",
       "      <th rowspan=\"4\" valign=\"top\">Audi</th>\n",
       "      <th>Audi A4</th>\n",
       "      <td>155108000</td>\n",
       "    </tr>\n",
       "    <tr>\n",
       "      <th>Audi A6</th>\n",
       "      <td>132920000</td>\n",
       "    </tr>\n",
       "    <tr>\n",
       "      <th>Audi A8</th>\n",
       "      <td>19750000</td>\n",
       "    </tr>\n",
       "    <tr>\n",
       "      <th>Audi Q7</th>\n",
       "      <td>69860000</td>\n",
       "    </tr>\n",
       "    <tr>\n",
       "      <th>BMW</th>\n",
       "      <th>BMW 3</th>\n",
       "      <td>271518000</td>\n",
       "    </tr>\n",
       "    <tr>\n",
       "      <th>...</th>\n",
       "      <th>...</th>\n",
       "      <td>...</td>\n",
       "    </tr>\n",
       "    <tr>\n",
       "      <th>Volkswagen</th>\n",
       "      <th>Volkswagen Vento</th>\n",
       "      <td>128827000</td>\n",
       "    </tr>\n",
       "    <tr>\n",
       "      <th rowspan=\"4\" valign=\"top\">Volvo</th>\n",
       "      <th>Volvo S90</th>\n",
       "      <td>16750000</td>\n",
       "    </tr>\n",
       "    <tr>\n",
       "      <th>Volvo XC</th>\n",
       "      <td>28695000</td>\n",
       "    </tr>\n",
       "    <tr>\n",
       "      <th>Volvo XC60</th>\n",
       "      <td>8225000</td>\n",
       "    </tr>\n",
       "    <tr>\n",
       "      <th>Volvo XC90</th>\n",
       "      <td>20924000</td>\n",
       "    </tr>\n",
       "  </tbody>\n",
       "</table>\n",
       "<p>121 rows × 1 columns</p>\n",
       "</div>"
      ],
      "text/plain": [
       "                             selling_price\n",
       "brand      car_name                       \n",
       "Audi       Audi A4               155108000\n",
       "           Audi A6               132920000\n",
       "           Audi A8                19750000\n",
       "           Audi Q7                69860000\n",
       "BMW        BMW 3                 271518000\n",
       "...                                    ...\n",
       "Volkswagen Volkswagen Vento      128827000\n",
       "Volvo      Volvo S90              16750000\n",
       "           Volvo XC               28695000\n",
       "           Volvo XC60              8225000\n",
       "           Volvo XC90             20924000\n",
       "\n",
       "[121 rows x 1 columns]"
      ]
     },
     "execution_count": 20,
     "metadata": {},
     "output_type": "execute_result"
    }
   ],
   "source": [
    "cars.groupby(['brand','car_name']).agg({'selling_price':'sum'})"
   ]
  },
  {
   "cell_type": "code",
   "execution_count": 21,
   "metadata": {
    "execution": {
     "iopub.execute_input": "2024-04-03T13:54:37.434116Z",
     "iopub.status.busy": "2024-04-03T13:54:37.433713Z",
     "iopub.status.idle": "2024-04-03T13:54:37.442217Z",
     "shell.execute_reply": "2024-04-03T13:54:37.441277Z",
     "shell.execute_reply.started": "2024-04-03T13:54:37.434079Z"
    }
   },
   "outputs": [
    {
     "data": {
      "text/plain": [
       "vehicle_age\n",
       "4     2252\n",
       "5     2117\n",
       "3     1926\n",
       "6     1924\n",
       "7     1438\n",
       "8     1282\n",
       "2     1145\n",
       "9     1027\n",
       "10     710\n",
       "11     551\n",
       "12     293\n",
       "13     237\n",
       "1      221\n",
       "14     129\n",
       "15      90\n",
       "16      25\n",
       "17      17\n",
       "18      11\n",
       "19       5\n",
       "0        5\n",
       "21       3\n",
       "29       1\n",
       "22       1\n",
       "25       1\n",
       "Name: count, dtype: int64"
      ]
     },
     "execution_count": 21,
     "metadata": {},
     "output_type": "execute_result"
    }
   ],
   "source": [
    "#Counts the number of times each value appears in a list.\n",
    "cars['vehicle_age'].value_counts()"
   ]
  },
  {
   "cell_type": "markdown",
   "metadata": {},
   "source": [
    "**Outcome**-Highest selling vehicle age is 4 years"
   ]
  },
  {
   "cell_type": "code",
   "execution_count": 22,
   "metadata": {
    "execution": {
     "iopub.execute_input": "2024-04-03T13:54:37.444082Z",
     "iopub.status.busy": "2024-04-03T13:54:37.443694Z",
     "iopub.status.idle": "2024-04-03T13:54:37.455629Z",
     "shell.execute_reply": "2024-04-03T13:54:37.454373Z",
     "shell.execute_reply.started": "2024-04-03T13:54:37.444044Z"
    }
   },
   "outputs": [
    {
     "data": {
      "text/plain": [
       "car_name\n",
       "Hyundai i20           906\n",
       "Maruti Swift Dzire    890\n",
       "Maruti Swift          781\n",
       "Maruti Alto           778\n",
       "Honda City            757\n",
       "Name: count, dtype: int64"
      ]
     },
     "execution_count": 22,
     "metadata": {},
     "output_type": "execute_result"
    }
   ],
   "source": [
    "cars['car_name'].value_counts().head()"
   ]
  },
  {
   "cell_type": "markdown",
   "metadata": {},
   "source": [
    "# **DATA VISUALISATION**"
   ]
  },
  {
   "cell_type": "markdown",
   "metadata": {},
   "source": [
    "# * Listing out Top 10 vehicles that dominate CarDekho's sales charts"
   ]
  },
  {
   "cell_type": "code",
   "execution_count": 23,
   "metadata": {
    "execution": {
     "iopub.execute_input": "2024-04-03T13:54:37.457130Z",
     "iopub.status.busy": "2024-04-03T13:54:37.456838Z",
     "iopub.status.idle": "2024-04-03T13:54:37.468390Z",
     "shell.execute_reply": "2024-04-03T13:54:37.467510Z",
     "shell.execute_reply.started": "2024-04-03T13:54:37.457105Z"
    }
   },
   "outputs": [
    {
     "data": {
      "text/plain": [
       "car_name\n",
       "Hyundai i20           906\n",
       "Maruti Swift Dzire    890\n",
       "Maruti Swift          781\n",
       "Maruti Alto           778\n",
       "Honda City            757\n",
       "Maruti Wagon R        717\n",
       "Hyundai Grand         580\n",
       "Toyota Innova         545\n",
       "Hyundai Verna         492\n",
       "Hyundai i10           410\n",
       "Name: count, dtype: int64"
      ]
     },
     "execution_count": 23,
     "metadata": {},
     "output_type": "execute_result"
    }
   ],
   "source": [
    "cars.car_name.value_counts().head(10)"
   ]
  },
  {
   "cell_type": "code",
   "execution_count": 24,
   "metadata": {
    "execution": {
     "iopub.execute_input": "2024-04-03T13:54:37.470257Z",
     "iopub.status.busy": "2024-04-03T13:54:37.469876Z",
     "iopub.status.idle": "2024-04-03T13:54:38.266368Z",
     "shell.execute_reply": "2024-04-03T13:54:38.265271Z",
     "shell.execute_reply.started": "2024-04-03T13:54:37.470219Z"
    }
   },
   "outputs": [
    {
     "data": {
      "image/png": "[encoded data removed]",
      "text/plain": [
       "<Figure size 1400x700 with 1 Axes>"
      ]
     },
     "metadata": {},
     "output_type": "display_data"
    }
   ],
   "source": [
    "# Set up the plot with a specific size\n",
    "plt.subplots(figsize=(14,7))\n",
    "# Create a count plot using Seaborn\n",
    "sns.countplot(x=\"car_name\",color='Red', data=cars,order = cars['car_name'].value_counts().index) \n",
    "# x=\"car_name\": it will be shown on x-axis, color='Red': bar color set to red.\n",
    "#data=cars: the DataFrame containing the data to be plotted,order=cars['car_name'].\n",
    "#value_counts().index: order the bars based on the count of occurrences of each car name\n",
    "plt.title(\"Top 10 Most Sold Car\", weight=\"bold\",fontsize=25, pad=20)\n",
    "plt.ylabel(\"Count\", weight=\"bold\", fontsize=20)\n",
    "plt.xlabel(\"Car Name\", weight=\"bold\", fontsize=15)\n",
    "plt.xticks(rotation= 90)\n",
    "plt.xlim(-1,10.5)\n",
    "plt.show()"
   ]
  },
  {
   "cell_type": "markdown",
   "metadata": {},
   "source": [
    "**Outcome**-i20 is the most selling second hand car amongst all the cars"
   ]
  },
  {
   "cell_type": "markdown",
   "metadata": {},
   "source": [
    "# * Top 10 car brands that experience the highest sales on CarDekho"
   ]
  },
  {
   "cell_type": "code",
   "execution_count": 25,
   "metadata": {
    "execution": {
     "iopub.execute_input": "2024-04-03T13:54:38.268443Z",
     "iopub.status.busy": "2024-04-03T13:54:38.268013Z",
     "iopub.status.idle": "2024-04-03T13:54:38.278409Z",
     "shell.execute_reply": "2024-04-03T13:54:38.277390Z",
     "shell.execute_reply.started": "2024-04-03T13:54:38.268358Z"
    }
   },
   "outputs": [
    {
     "data": {
      "text/plain": [
       "brand\n",
       "Maruti        4992\n",
       "Hyundai       2982\n",
       "Honda         1485\n",
       "Mahindra      1011\n",
       "Toyota         793\n",
       "Ford           790\n",
       "Volkswagen     620\n",
       "Renault        536\n",
       "BMW            439\n",
       "Tata           430\n",
       "Name: count, dtype: int64"
      ]
     },
     "execution_count": 25,
     "metadata": {},
     "output_type": "execute_result"
    }
   ],
   "source": [
    "cars.brand.value_counts().head(10)"
   ]
  },
  {
   "cell_type": "code",
   "execution_count": 26,
   "metadata": {
    "execution": {
     "iopub.execute_input": "2024-04-03T13:54:38.279977Z",
     "iopub.status.busy": "2024-04-03T13:54:38.279595Z",
     "iopub.status.idle": "2024-04-03T13:54:38.685108Z",
     "shell.execute_reply": "2024-04-03T13:54:38.683979Z",
     "shell.execute_reply.started": "2024-04-03T13:54:38.279943Z"
    }
   },
   "outputs": [
    {
     "data": {
      "image/png": "[encoded data removed]",
      "text/plain": [
       "<Figure size 1400x700 with 1 Axes>"
      ]
     },
     "metadata": {},
     "output_type": "display_data"
    }
   ],
   "source": [
    "#Refer the above plot for psuedo codes\n",
    "plt.subplots(figsize=(14,7))\n",
    "sns.countplot(x=\"brand\", data=cars,color=\"Blue\",order = cars['brand'].value_counts().index)\n",
    "plt.title(\"Top 10 Most Sold Brand\", weight=\"bold\",fontsize=20, pad=20)\n",
    "plt.ylabel(\"Count\")\n",
    "plt.xlabel(\"Brand\")\n",
    "plt.xticks(rotation= 90)\n",
    "plt.xlim(-1,10.5)\n",
    "plt.show()"
   ]
  },
  {
   "cell_type": "markdown",
   "metadata": {},
   "source": [
    "**Outcome** - Maruti is most seliing brand on cardekho"
   ]
  },
  {
   "cell_type": "markdown",
   "metadata": {},
   "source": [
    "# * Finding out Top 5 Highest car Mileage "
   ]
  },
  {
   "cell_type": "code",
   "execution_count": 27,
   "metadata": {
    "execution": {
     "iopub.execute_input": "2024-04-03T13:54:38.686764Z",
     "iopub.status.busy": "2024-04-03T13:54:38.686413Z",
     "iopub.status.idle": "2024-04-03T13:54:38.702450Z",
     "shell.execute_reply": "2024-04-03T13:54:38.701380Z",
     "shell.execute_reply.started": "2024-04-03T13:54:38.686737Z"
    }
   },
   "outputs": [
    {
     "data": {
      "text/html": [
       "<div>\n",
       "<style scoped>\n",
       "    .dataframe tbody tr th:only-of-type {\n",
       "        vertical-align: middle;\n",
       "    }\n",
       "\n",
       "    .dataframe tbody tr th {\n",
       "        vertical-align: top;\n",
       "    }\n",
       "\n",
       "    .dataframe thead th {\n",
       "        text-align: right;\n",
       "    }\n",
       "</style>\n",
       "<table border=\"1\" class=\"dataframe\">\n",
       "  <thead>\n",
       "    <tr style=\"text-align: right;\">\n",
       "      <th></th>\n",
       "      <th>mileage</th>\n",
       "    </tr>\n",
       "    <tr>\n",
       "      <th>car_name</th>\n",
       "      <th></th>\n",
       "    </tr>\n",
       "  </thead>\n",
       "  <tbody>\n",
       "    <tr>\n",
       "      <th>Tata Tiago</th>\n",
       "      <td>24.625103</td>\n",
       "    </tr>\n",
       "    <tr>\n",
       "      <th>Maruti Ciaz</th>\n",
       "      <td>24.289046</td>\n",
       "    </tr>\n",
       "    <tr>\n",
       "      <th>Maruti Vitara</th>\n",
       "      <td>24.231932</td>\n",
       "    </tr>\n",
       "    <tr>\n",
       "      <th>Renault KWID</th>\n",
       "      <td>24.037810</td>\n",
       "    </tr>\n",
       "    <tr>\n",
       "      <th>Maruti Celerio</th>\n",
       "      <td>23.703502</td>\n",
       "    </tr>\n",
       "  </tbody>\n",
       "</table>\n",
       "</div>"
      ],
      "text/plain": [
       "                  mileage\n",
       "car_name                 \n",
       "Tata Tiago      24.625103\n",
       "Maruti Ciaz     24.289046\n",
       "Maruti Vitara   24.231932\n",
       "Renault KWID    24.037810\n",
       "Maruti Celerio  23.703502"
      ]
     },
     "execution_count": 27,
     "metadata": {},
     "output_type": "execute_result"
    }
   ],
   "source": [
    "mileage_Car= cars.groupby('car_name')['mileage'].mean().sort_values(ascending=False).head(5)\n",
    "#Converts data into a DataFrame.\n",
    "mileage_Car.to_frame()"
   ]
  },
  {
   "cell_type": "markdown",
   "metadata": {},
   "source": [
    "**Outcome** - Tata Tiago is highest mileage giving car amonst the lot\n",
    "          \n",
    "         "
   ]
  },
  {
   "cell_type": "markdown",
   "metadata": {},
   "source": [
    "# * Finding out the distribution of seller count"
   ]
  },
  {
   "cell_type": "code",
   "execution_count": 28,
   "metadata": {
    "execution": {
     "iopub.execute_input": "2024-04-03T13:54:38.956943Z",
     "iopub.status.busy": "2024-04-03T13:54:38.956361Z",
     "iopub.status.idle": "2024-04-03T13:54:39.165157Z",
     "shell.execute_reply": "2024-04-03T13:54:39.164357Z",
     "shell.execute_reply.started": "2024-04-03T13:54:38.956897Z"
    }
   },
   "outputs": [
    {
     "data": {
      "image/png": "[encoded data removed]",
      "text/plain": [
       "<Figure size 640x480 with 1 Axes>"
      ]
     },
     "metadata": {},
     "output_type": "display_data"
    }
   ],
   "source": [
    "#Define subsets based on seller types\n",
    "D= cars[cars['seller_type']=='Dealer']\n",
    "I= cars[cars['seller_type']=='Individual']\n",
    "T= cars[cars['seller_type']=='Trustmark Dealer']\n",
    "\n",
    "# Calculate the percentage of each seller type\n",
    "per_D = D.shape[0]/cars.shape[0]\n",
    "per_I = I.shape[0]/cars.shape[0]\n",
    "per_T = T.shape[0]/cars.shape[0]\n",
    "         \n",
    "labels=['Dealer', 'Individual', 'Trustmark dealer']# Define labels for the pie chart\n",
    "colors = ['gold', 'yellowgreen', 'lightcoral'] # Define colors for the pie chart\n",
    "fig, ax = plt.subplots() # Create a figure and axis object for the pie chart\n",
    "explode = (0.1,0,0) # Define explode to highlight the second slice (Between 4.5 and 3)\n",
    "ax.axis('equal') # Make the aspect ratio of the pie chart equal\n",
    "\n",
    "# Create the pie chart with percentages, colors, and other configurations\n",
    "ax.pie([per_D, per_I, per_T],explode=explode,colors=colors,autopct='%1.1f%%',startangle=180,shadow=True,labels=labels)\n",
    "# Add a legend to the pie chart\n",
    "ax.legend(labels,title='Seller type', loc='center', bbox_to_anchor=(1.25,1))\n",
    "plt.show()\n",
    "         "
   ]
  },
  {
   "cell_type": "markdown",
   "metadata": {},
   "source": [
    "**Outcome-**\n",
    "\n",
    "* As shown in the piechart its clear that most of the customers prefer dealers\n",
    "* Trustmark dealer buying is least selected by people"
   ]
  },
  {
   "cell_type": "markdown",
   "metadata": {},
   "source": [
    "# * Comparing Mileage with Fuel Type with box plot method"
   ]
  },
  {
   "cell_type": "code",
   "execution_count": 29,
   "metadata": {
    "execution": {
     "iopub.execute_input": "2024-04-03T13:54:39.167106Z",
     "iopub.status.busy": "2024-04-03T13:54:39.166558Z",
     "iopub.status.idle": "2024-04-03T13:54:39.522954Z",
     "shell.execute_reply": "2024-04-03T13:54:39.521602Z",
     "shell.execute_reply.started": "2024-04-03T13:54:39.167077Z"
    }
   },
   "outputs": [
    {
     "data": {
      "image/png": "[encoded data removed]",
      "text/plain": [
       "<Figure size 1400x700 with 1 Axes>"
      ]
     },
     "metadata": {},
     "output_type": "display_data"
    }
   ],
   "source": [
    "# Create a figure and axis object with a specific size.\n",
    "plt.subplots(figsize=(14,7))\n",
    "# Create a boxplot using seaborn with specified parameters\n",
    "sns.boxplot(x='fuel_type', y='mileage', data=cars,color=\"Brown\")\n",
    "# Set title for the plot with specified font weight and size\n",
    "plt.title(\"Fuel type vs Mileage\", weight=\"bold\",fontsize=20, pad=20)\n",
    "\n",
    "# Set label for y-axis with specified font weight and size\n",
    "plt.ylabel(\"Mileage in Kmpl\", weight=\"bold\", fontsize=14)\n",
    "plt.xlabel(\"Fuel Type\", weight=\"bold\", fontsize=12)\n",
    "plt.show()"
   ]
  },
  {
   "cell_type": "markdown",
   "metadata": {},
   "source": [
    "**Outcome**-\n",
    "* CNG typically provides more mileage due to its higher octane rating, which enables more efficient combustion\n",
    "* Diesel engines generally provide better mileage due to their higher energy density compared to gasoline. This means that diesel fuel contains more energy per volume, allowing diesel vehicles to travel further on less fuel.\n",
    "* Petrol typically provides lower mileage compared to diesel due to its lower energy density. This means that petrol contains less energy per volume, resulting in shorter driving ranges.\n",
    "* Electric is not preffered as much as gasoline because of the charging infrastructure is not soo developed as of the developed countries  "
   ]
  },
  {
   "cell_type": "markdown",
   "metadata": {},
   "source": [
    "# * Correlation bwtween Vehicle Selling Price,Vehicle Age,Mileage and Km driven"
   ]
  },
  {
   "cell_type": "code",
   "execution_count": 30,
   "metadata": {
    "execution": {
     "iopub.execute_input": "2024-04-03T13:54:39.524687Z",
     "iopub.status.busy": "2024-04-03T13:54:39.524372Z",
     "iopub.status.idle": "2024-04-03T13:54:39.973797Z",
     "shell.execute_reply": "2024-04-03T13:54:39.972708Z",
     "shell.execute_reply.started": "2024-04-03T13:54:39.524661Z"
    }
   },
   "outputs": [
    {
     "data": {
      "image/png": "[encoded data removed]",
      "text/plain": [
       "<Figure size 640x480 with 2 Axes>"
      ]
     },
     "metadata": {},
     "output_type": "display_data"
    }
   ],
   "source": [
    "# Select specific columns from the cars dataframe\n",
    "cars=cars[[\"selling_price\",\"vehicle_age\",\"mileage\",\"km_driven\"]]\n",
    "# Calculate the correlation matrix\n",
    "corr=cars.corr()\n",
    "# Plot a heatmap of the correlation matrix with annotations, colormap, and other configurations\n",
    "sns.heatmap(corr,annot=True,cmap=\"coolwarm\")\n",
    "# Add a title to the plot\n",
    "plt.title(\"Correlation Matrix\")\n",
    "# Show the plot\n",
    "plt.show()"
   ]
  },
  {
   "cell_type": "markdown",
   "metadata": {},
   "source": [
    "**Outcome-**\n",
    "* 1 indicates a perfect positive correlation.\n",
    "* -1 indicates a perfect negative correlation\n",
    "* 0 indicates no correlation."
   ]
  },
  {
   "cell_type": "markdown",
   "metadata": {},
   "source": [
    "# **CONCLUSION**"
   ]
  },
  {
   "cell_type": "markdown",
   "metadata": {},
   "source": [
    "CarDekho's dataset provides valuable insights into consumer behavior, market trends, and preferences within the automotive industry. Through careful analysis of the data, several key findings emerge:\n",
    "* Customers mostly prefer to get car from dealers rather than individual selling\n",
    "* Customers prefer cars which are generally low driven,have good body line and have service records\n",
    "* As per this dataset CNG is most mileage giving cars but in reality private car usage people generally prefer Diesel or petrol cars.\n",
    "\n",
    "**Consider Implementing:**\n",
    "* Enhance user experience\n",
    "* Expand Inventory\n",
    "* Social Media Engagement\n",
    "* After Sales Support\n"
   ]
  }
 ],
 "metadata": {
  "kaggle": {
   "accelerator": "none",
   "dataSources": [
    {
     "datasetId": 3461144,
     "sourceId": 6050192,
     "sourceType": "datasetVersion"
    }
   ],
   "dockerImageVersionId": 30673,
   "isGpuEnabled": false,
   "isInternetEnabled": false,
   "language": "python",
   "sourceType": "notebook"
  },
  "kernelspec": {
   "display_name": "Python 3 (ipykernel)",
   "language": "python",
   "name": "python3"
  },
  "language_info": {
   "codemirror_mode": {
    "name": "ipython",
    "version": 3
   },
   "file_extension": ".py",
   "mimetype": "text/x-python",
   "name": "python",
   "nbconvert_exporter": "python",
   "pygments_lexer": "ipython3",
   "version": "3.11.5"
  }
 },
 "nbformat": 4,
 "nbformat_minor": 4
}
